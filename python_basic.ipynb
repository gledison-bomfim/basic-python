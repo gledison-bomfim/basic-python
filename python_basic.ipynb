{
  "nbformat": 4,
  "nbformat_minor": 0,
  "metadata": {
    "colab": {
      "name": "python_basic.ipynb",
      "provenance": [],
      "collapsed_sections": [],
      "authorship_tag": "ABX9TyM0AXt9lfTCrQynEtHDhHPa",
      "include_colab_link": true
    },
    "kernelspec": {
      "name": "python3",
      "display_name": "Python 3"
    },
    "language_info": {
      "name": "python"
    }
  },
  "cells": [
    {
      "cell_type": "markdown",
      "metadata": {
        "id": "view-in-github",
        "colab_type": "text"
      },
      "source": [
        "<a href=\"https://colab.research.google.com/github/gledison-bomfim/basic-python/blob/main/python_basic.ipynb\" target=\"_parent\"><img src=\"https://colab.research.google.com/assets/colab-badge.svg\" alt=\"Open In Colab\"/></a>"
      ]
    },
    {
      "cell_type": "markdown",
      "metadata": {
        "id": "SLsNlz7p8uOZ"
      },
      "source": [
        "# Conceitos básicos do Python"
      ]
    },
    {
      "cell_type": "markdown",
      "metadata": {
        "id": "FxIZXC5l83Rw"
      },
      "source": [
        "### Operadores lógicos "
      ]
    },
    {
      "cell_type": "code",
      "metadata": {
        "id": "YozfFQxG1mpX"
      },
      "source": [
        "soma = (2+2)\n",
        "print(soma)\n",
        "\n",
        "subtracao = (10-5)\n",
        "print(subtracao)\n",
        "\n",
        "divisao = (25/5 )\n",
        "print(divisao)\n",
        "\n",
        "multiplicacao = (10*5)\n",
        "print(multiplicacao)\n",
        "\n",
        "modulo = (10%3)\n",
        "print(modulo)\n",
        "\n",
        "exponenciacao = (2**2)\n",
        "print(exponenciacao)"
      ],
      "execution_count": null,
      "outputs": []
    },
    {
      "cell_type": "markdown",
      "metadata": {
        "id": "wHsLrVIa-TVg"
      },
      "source": [
        "### Variáveis"
      ]
    },
    {
      "cell_type": "code",
      "metadata": {
        "id": "fFGqet-S81tI"
      },
      "source": [
        "var1 = 1 #variavel inteira\n",
        "var2 = 2.0 # variavel float\n",
        "var3 = \"String\" #variavel string\n",
        "var4 = True #variavel boleana\n",
        "var5 = False #variavel boleana \n",
        "\n",
        "print(var1)\n",
        "print(var2)\n",
        "print(var3)\n",
        "print(var4)\n",
        "print(var5)"
      ],
      "execution_count": null,
      "outputs": []
    },
    {
      "cell_type": "markdown",
      "metadata": {
        "id": "0xPSKspOLFQ2"
      },
      "source": [
        "### Strings"
      ]
    },
    {
      "cell_type": "code",
      "metadata": {
        "colab": {
          "base_uri": "https://localhost:8080/"
        },
        "id": "bzenVBQPLHwt",
        "outputId": "f0e84826-52c9-4703-e636-dacbbfb096bc"
      },
      "source": [
        "# String é um conjunto de caracteres(texto) é definida no python por \"\" ou ''\n",
        "var1 = \"Isso é uma string!\" \n",
        "var2 = 'Isso também é uma string!'\n",
        "\n",
        "# Concatenação de strings\n",
        "var3 = \"Olá \"\n",
        "var4 = \"Mundo!\"\n",
        "concatenacao =  var3 + var4\n",
        "print(concatenacao)\n",
        "\n",
        "# len - Utilizda para verificar o tamanho de uma string\n",
        "tamanho =  len(concatenacao)\n",
        "print(tamanho)\n"
      ],
      "execution_count": 47,
      "outputs": [
        {
          "output_type": "stream",
          "text": [
            "Olá Mundo!\n",
            "10\n"
          ],
          "name": "stdout"
        }
      ]
    },
    {
      "cell_type": "markdown",
      "metadata": {
        "id": "ExI025xdNqXZ"
      },
      "source": [
        "### Utilizando métodos com Strings"
      ]
    },
    {
      "cell_type": "code",
      "metadata": {
        "colab": {
          "base_uri": "https://localhost:8080/"
        },
        "id": "La4rKamqNyth",
        "outputId": "e1b7c187-5e48-41ef-bce4-bf0da0223485"
      },
      "source": [
        "# String em Python são objetos e é possível aplicar método a strings\n",
        "\n",
        "# lower - Altera a caixa: minúsculo\n",
        "seq = \"TEXTO TESTE 1\"\n",
        "seq = seq.lower()\n",
        "print(seq)\n",
        "\n",
        "# upper - Altera a caixa: maiúsculo\n",
        "seq2 = \"texto teste 2\"\n",
        "seq2 = seq2.upper()\n",
        "print(seq2)\n",
        "\n",
        "# split - Converte uma string em uma lista\n",
        "seq3 =  \"Texto teste para lista\"\n",
        "seq3 = seq3.split()\n",
        "print(seq3)\n",
        "\n",
        "# split - Converte uma string em uma lista e definindo tipo de quebra\n",
        "minha_string = \"O rato roeu a roupa do rei de roma\"\n",
        "minha_lista = minha_string.split(\" \")\n",
        "print(minha_lista) \n",
        "\n",
        "#strip -  Remove espaços no começo e no fim da *string*\n",
        "seq4 = \" Testo teste com espaços no inicio e fim \"\n",
        "seq4 =  seq4.strip()\n",
        "print(seq4)\n",
        "\n",
        "#strip -  Remove caracteres especiais\n",
        "a = \"Testo\"\n",
        "b = \"teste\"\n",
        "conc = a + \" \" + b + \"\\n\"\n",
        "print(conc.strip())\n",
        "\n",
        "# find - Busca substring\n",
        "seq5 = \"ABC DEF GHI\"\n",
        "seq5 = seq5.find(\"DEF\")\n",
        "print(seq5)\n",
        "\n",
        "# replace - Substitui parte de uma *string*\n",
        "seq6 = \"ABC DEF GHI\"\n",
        "seq6 = seq6.replace(\"DEF\",\" \")\n",
        "print(seq6)\n",
        "\n"
      ],
      "execution_count": 59,
      "outputs": [
        {
          "output_type": "stream",
          "text": [
            "texto teste 1\n",
            "TEXTO TESTE 2\n",
            "['Texto', 'teste', 'para', 'lista']\n",
            "['O', 'rato', 'roeu', 'a', 'roupa', 'do', 'rei', 'de', 'roma']\n",
            "Testo teste com espaços no inicio e fim\n",
            "Testo teste\n",
            "4\n",
            "ABC   GHI\n"
          ],
          "name": "stdout"
        }
      ]
    },
    {
      "cell_type": "markdown",
      "metadata": {
        "id": "6Oh7nOQA--yG"
      },
      "source": [
        "### Operadores relacionais\n",
        "\n"
      ]
    },
    {
      "cell_type": "code",
      "metadata": {
        "id": "r6hmU7RJ_GCt"
      },
      "source": [
        "# Operador de atribuição\n",
        "a = 5\n",
        "# Operador de igualdade\n",
        "5 == 5\n",
        "# Operador diferente\n",
        "5 != 7\n",
        "# Operador maior\n",
        "10 > 1\n",
        "# Operador menor\n",
        "1 < 10\n",
        "# Operador maior ou igual \n",
        "10 >= 10\n",
        "# Operador menor ou igual\n",
        "5 <= 5\n",
        "\n"
      ],
      "execution_count": null,
      "outputs": []
    },
    {
      "cell_type": "markdown",
      "metadata": {
        "id": "gQFXSCc0_8XT"
      },
      "source": [
        "### Operadores lógicos"
      ]
    },
    {
      "cell_type": "code",
      "metadata": {
        "colab": {
          "base_uri": "https://localhost:8080/"
        },
        "id": "ucyLuKdw_-XS",
        "outputId": "c3674575-4905-4087-ff22-5daf0d5de8be"
      },
      "source": [
        "x = 7\n",
        "y = 8\n",
        "z = 10\n",
        "\n",
        "# AND Duas condições sejam verdadeiras\n",
        "print( x and y < 10)\n",
        "\n",
        "# OR Pelo menos uma condição seja verdadeira\n",
        "print( x == 10 or z == 10)\n",
        "\n",
        "#NOT Inverte o valor\n",
        "print(not z == 10)\n"
      ],
      "execution_count": 28,
      "outputs": [
        {
          "output_type": "stream",
          "text": [
            "True\n",
            "True\n",
            "False\n"
          ],
          "name": "stdout"
        }
      ]
    },
    {
      "cell_type": "markdown",
      "metadata": {
        "id": "kCRVjEpABuaa"
      },
      "source": [
        "### Estrutura condicional\n",
        "\n",
        "\n"
      ]
    },
    {
      "cell_type": "code",
      "metadata": {
        "colab": {
          "base_uri": "https://localhost:8080/"
        },
        "id": "nij-xN0iBxYP",
        "outputId": "faefb78a-650c-47a5-95ac-ab2ae5330795"
      },
      "source": [
        "x = 7\n",
        "y = 8\n",
        "z = 10\n",
        "w = 10\n",
        "\n",
        "# IF - Se  condição for verdadeira, execute:\n",
        "if z > x:\n",
        "  print(\"z é maior que x\")\n",
        "\n",
        "# ELSE - Se  condição NÃO for verdadeira, execute:\n",
        "if x > y:\n",
        "  print(\"z é maior que x\")\n",
        "else:\n",
        "  print(\"x é menor que y\")\n",
        "\n",
        "# ELIF - Se condição  IF falar, execute:\n",
        "if z > w:\n",
        "  print(\"z é maior que w\")\n",
        "elif z == w:\n",
        "  print(\"z é igual a w \")\n",
        "else:\n",
        "  print(\"z é menor que w\")\n",
        "\n",
        "# Condições encadeadas\n",
        "\n",
        "if w == z:\n",
        "  if w and z !=10:\n",
        "    print(\"w e z são diferentes de 10\")\n",
        "  else:\n",
        "    print(\"w e z são iguais a 10\")\n",
        "else:\n",
        "  print(\"w e z não são iguais\")\n",
        "\n"
      ],
      "execution_count": 38,
      "outputs": [
        {
          "output_type": "stream",
          "text": [
            "z é maior que x\n",
            "x é menor que y\n",
            "z é igual a w \n",
            "w e z são iguais a 10\n"
          ],
          "name": "stdout"
        }
      ]
    },
    {
      "cell_type": "markdown",
      "metadata": {
        "id": "4Uh8rL8AIVSy"
      },
      "source": [
        "### Estruturas de repetição\n"
      ]
    },
    {
      "cell_type": "code",
      "metadata": {
        "id": "L7zcndKDIU6u"
      },
      "source": [
        "# While - Enquanto condição verdadeira executa um trecho de código\n",
        "x = 1\n",
        "\n",
        "while x < 10:\n",
        "  print(x)\n",
        "  x = x + 1  # é o mesmo que x += 1\n",
        "\n",
        "# For - Realiza um loop com a condição determinada\n",
        "lista1 = [1, 2, 3, 4, 5]\n",
        "\n",
        "for i in lista1:\n",
        "  print(i)\n",
        "\n",
        "# For utilizando a função *range* - Range retorna uma lista\n",
        "for i in range(10):\n",
        "  print(i)\n"
      ],
      "execution_count": null,
      "outputs": []
    },
    {
      "cell_type": "markdown",
      "metadata": {
        "id": "KpGy_1B2Uccx"
      },
      "source": [
        "### Funções"
      ]
    },
    {
      "cell_type": "code",
      "metadata": {
        "id": "1SIBRH6VUeka"
      },
      "source": [
        "# def - Define a função com nome e parâmetros\n",
        "def soma(x,y):\n",
        "\treturn x + y\n",
        "\n",
        "# chamada da função nome_da_funcao(argumentos)\n",
        "s = soma (2, 3)\n",
        "print(s)\n",
        "\n"
      ],
      "execution_count": null,
      "outputs": []
    }
  ]
}